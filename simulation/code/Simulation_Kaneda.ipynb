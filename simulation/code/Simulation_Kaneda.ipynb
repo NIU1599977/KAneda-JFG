{
 "cells": [
  {
   "cell_type": "markdown",
   "id": "6547c7e3-063f-4d6c-a394-fdedf91023b7",
   "metadata": {},
   "source": [
    "# SIMULACIÓN KANEDA "
   ]
  },
  {
   "cell_type": "code",
   "execution_count": 26,
   "metadata": {},
   "outputs": [],
   "source": [
    "# https://manual.coppeliarobotics.com/en/remoteApiFunctionsPython.htm"
   ]
  },
  {
   "cell_type": "code",
   "execution_count": 27,
   "id": "10813666-24c9-4a0a-bce7-d0f2f40ef70d",
   "metadata": {},
   "outputs": [],
   "source": [
    "# we import the necessary libraries\n",
    "import numpy as np\n",
    "import sympy as sp\n",
    "from sympy import *\n",
    "import math\n",
    "import sim  \n"
   ]
  },
  {
   "cell_type": "markdown",
   "id": "ef916fa6-f7b8-40a3-873b-7d34c50f6c70",
   "metadata": {},
   "source": [
    "### CONEXIÓN CON COPPELIA"
   ]
  },
  {
   "cell_type": "code",
   "execution_count": 28,
   "id": "fbd1393b-64be-483c-95df-a9da5fb5bd8e",
   "metadata": {},
   "outputs": [],
   "source": [
    "def connect(port):\n",
    "    sim.simxFinish(-1) # just in case, close all opened connections\n",
    "    clientID=sim.simxStart('172.21.0.1',port,True,True,2000,5) # Conectarse\n",
    "    if clientID == 0: print(\"conectado a\", port)\n",
    "    else: print(\"no se pudo conectar\")\n",
    "    return clientID"
   ]
  },
  {
   "cell_type": "code",
   "execution_count": 223,
   "id": "7cfe1bf8-b968-4fde-a012-1656e20e241e",
   "metadata": {},
   "outputs": [
    {
     "name": "stdout",
     "output_type": "stream",
     "text": [
      "conectado a 19999\n"
     ]
    }
   ],
   "source": [
    "clientID = connect(19999)"
   ]
  },
  {
   "cell_type": "code",
   "execution_count": 224,
   "id": "d743c7a8-06bc-4f4b-9c88-61755c66e5bd",
   "metadata": {},
   "outputs": [
    {
     "name": "stdout",
     "output_type": "stream",
     "text": [
      "21\n"
     ]
    }
   ],
   "source": [
    "import time\n",
    "retCode,wheel=sim.simxGetObjectHandle(clientID,'rueda_trasera',sim.simx_opmode_blocking)\n",
    "print(wheel)\n",
    "\n",
    "\n",
    "\n",
    "\n"
   ]
  },
  {
   "cell_type": "code",
   "execution_count": 31,
   "metadata": {},
   "outputs": [
    {
     "name": "stderr",
     "output_type": "stream",
     "text": [
      "Using cache found in /root/.cache/torch/hub/ultralytics_yolov5_master\n",
      "YOLOv5 🚀 2024-3-22 Python-3.11.7 torch-2.2.1+cu121 CPU\n",
      "\n",
      "Downloading https://github.com/ultralytics/yolov5/releases/download/v7.0/yolov5s.pt to yolov5s.pt...\n",
      "100%|██████████| 14.1M/14.1M [00:00<00:00, 29.0MB/s]\n",
      "\n",
      "Fusing layers... \n",
      "YOLOv5s summary: 213 layers, 7225885 parameters, 0 gradients, 16.4 GFLOPs\n",
      "Adding AutoShape... \n"
     ]
    }
   ],
   "source": [
    "import torch\n",
    "# acquisition of the Yolo5v Model\n",
    "model = torch.hub.load('ultralytics/yolov5', 'yolov5s')  # o yolov5n - yolov5x6..."
   ]
  },
  {
   "cell_type": "code",
   "execution_count": 117,
   "metadata": {},
   "outputs": [
    {
     "name": "stdout",
     "output_type": "stream",
     "text": [
      "conectado a 19999\n"
     ]
    }
   ],
   "source": [
    "import numpy as np              # maths\n",
    "import cv2\n",
    "from  matplotlib import pyplot as plt\n",
    "clientID = connect(19999)"
   ]
  },
  {
   "cell_type": "code",
   "execution_count": 119,
   "id": "766ef928-0009-4b23-be50-55cee1f664b8",
   "metadata": {},
   "outputs": [
    {
     "data": {
      "text/plain": [
       "<matplotlib.image.AxesImage at 0x7f0caca16290>"
      ]
     },
     "execution_count": 119,
     "metadata": {},
     "output_type": "execute_result"
    }
   ],
   "source": [
    "## Visión de la cámara\n",
    "retCode,sensorHandle=sim.simxGetObjectHandle(clientID,'Vision_sensor',sim.simx_opmode_blocking)\n",
    "\n",
    "retCode, resolution, image=sim.simxGetVisionSensorImage(clientID,sensorHandle,0,sim.simx_opmode_oneshot_wait)\n",
    "img=np.array(image).astype(np.uint8)\n",
    "img.resize([resolution[1],resolution[0],3])\n",
    "img = img[::-1, ::1, :]\n",
    "plt.imshow(img)"
   ]
  },
  {
   "cell_type": "code",
   "execution_count": 366,
   "metadata": {},
   "outputs": [
    {
     "name": "stdout",
     "output_type": "stream",
     "text": [
      "        name         x         y\n",
      "0  stop sign  0.114012  0.031834\n",
      "nos paramos\n"
     ]
    }
   ],
   "source": [
    "# Inference\n",
    "results = model(img)\n",
    "\n",
    "# Results\n",
    "positions = results.pandas().xyxy[0]\n",
    "positions[\"xcenter\"] = [(positions[\"xmax\"][i] - positions[\"xmin\"][i])/2 + positions[\"xmin\"][i] for i in range(len(positions))]\n",
    "positions[\"ycenter\"] = [(positions[\"ymax\"][i] - positions[\"ymin\"][i])/2 + positions[\"ymin\"][i] for i in range(len(positions))]\n",
    "\n",
    "# Change the centers from 0-1000 to 0-0.5 to use the map coordinates\n",
    "\n",
    "coords = np.array([[positions[\"xcenter\"][i]*0.5/1000, positions[\"ycenter\"][i]*0.5/1000] for i in range(len(positions))])\n",
    "positions[\"x\"] = coords[:, 0]\n",
    "positions[\"y\"] = coords[:, 1]\n",
    "positions\n",
    "detections = positions.drop(columns=[\"xmin\", \"ymin\", \"xmax\", \"ymax\", \"confidence\", \"class\", \"xcenter\", \"ycenter\"])\n",
    "print(detections)\n",
    "if not detections.empty:\n",
    "    detection = detections.iloc[0]\n",
    "    if round(detection.iloc[1], 2) == 0.11 and round(detection.iloc[2], 2) == 0.03:\n",
    "        print(\"nos paramos\") \n",
    "\n"
   ]
  },
  {
   "cell_type": "code",
   "execution_count": 3,
   "id": "1bca406e",
   "metadata": {},
   "outputs": [
    {
     "name": "stderr",
     "output_type": "stream",
     "text": [
      "Using cache found in /root/.cache/torch/hub/ultralytics_yolov5_master\n",
      "YOLOv5 🚀 2024-3-22 Python-3.11.7 torch-2.2.1+cu121 CPU\n",
      "\n",
      "Fusing layers... \n",
      "YOLOv5s summary: 213 layers, 7225885 parameters, 0 gradients, 16.4 GFLOPs\n",
      "Adding AutoShape... \n"
     ]
    }
   ],
   "source": [
    "## IMPORTS INICIALES\n",
    "import numpy as np\n",
    "import time\n",
    "import math\n",
    "import sim  \n",
    "import random as rand\n",
    "\n",
    "## Recognition\n",
    "import torch\n",
    "model = torch.hub.load('ultralytics/yolov5', 'yolov5s')"
   ]
  },
  {
   "cell_type": "code",
   "execution_count": 9,
   "id": "083bcd85",
   "metadata": {},
   "outputs": [],
   "source": [
    "## Funciones útiles\n",
    "def connect(port):\n",
    "    sim.simxFinish(-1) # just in case, close all opened connections\n",
    "    clientID=sim.simxStart('172.21.0.1',port,True,True,2000,5) # Conectarse\n",
    "    if clientID == 0: print(\"conectado a\", port)\n",
    "    else: print(\"no se pudo conectar\")\n",
    "    return clientID\n",
    "\n",
    "def movimiento(target_velocity, joint):\n",
    "    retCode = sim.simxSetJointTargetVelocity(clientID, joint, target_velocity, sim.simx_opmode_streaming)\n",
    "    if retCode > 1: print(\"Movimiento Return:\" + str(retCode) + \" \" + str(joint))\n",
    "\n",
    "def mov_inercia(target_velocity, joint):\n",
    "    retCode = sim.simxSetJointTargetVelocity(clientID, joint, target_velocity, sim.simx_opmode_streaming )\n",
    "    if retCode > 1: print(\"Movimiento Return:\" + str(retCode) + \" \" + str(joint))\n",
    "\n",
    "def girar(joint, angle=(40*np.pi)/180):\n",
    "    retCode= sim.simxSetJointTargetPosition(clientID,joint,angle,sim.simx_opmode_oneshot)\n",
    "    if retCode > 1: print(\"giro Return:\" + str(retCode))\n",
    "\n",
    "def getImage(sensor):\n",
    "    retCode, resolution, image=sim.simxGetVisionSensorImage(clientID,sensor,0,sim.simx_opmode_oneshot_wait)\n",
    "    img=np.array(image).astype(np.uint8)\n",
    "    img.resize([resolution[1],resolution[0],3])\n",
    "    img = img[::-1, ::1, :]\n",
    "    return img\n",
    "\n",
    "def getDetections(img):\n",
    "    # Inference\n",
    "    results = model(img)\n",
    "\n",
    "    # Results\n",
    "    positions = results.pandas().xyxy[0]\n",
    "    positions[\"xcenter\"] = [(positions[\"xmax\"][i] - positions[\"xmin\"][i])/2 + positions[\"xmin\"][i] for i in range(len(positions))]\n",
    "    positions[\"ycenter\"] = [(positions[\"ymax\"][i] - positions[\"ymin\"][i])/2 + positions[\"ymin\"][i] for i in range(len(positions))]\n",
    "\n",
    "    # Change the centers from 0-1000 to 0-0.5 to use the map coordinates\n",
    "    coords = np.array([[positions[\"xcenter\"][i]*0.5/1000, positions[\"ycenter\"][i]*0.5/1000] for i in range(len(positions))])\n",
    "    positions[\"x\"] = coords[:, 0]\n",
    "    positions[\"y\"] = coords[:, 1]\n",
    "    detections = positions.drop(columns=[\"xmin\", \"ymin\", \"xmax\", \"ymax\", \"confidence\", \"class\", \"xcenter\", \"ycenter\"])\n",
    "    #print(detections)\n",
    "    return detections\n"
   ]
  },
  {
   "cell_type": "code",
   "execution_count": 12,
   "id": "5003e063",
   "metadata": {},
   "outputs": [
    {
     "name": "stdout",
     "output_type": "stream",
     "text": [
      "conectado a 19999\n",
      "50 15 21 24\n"
     ]
    }
   ],
   "source": [
    "## Connection\n",
    "clientID = connect(19999)\n",
    "\n",
    "## Handlers\n",
    "retCode,sensorHandle=sim.simxGetObjectHandle(clientID,'Vision_sensor',sim.simx_opmode_blocking)\n",
    "retCode,manillar=sim.simxGetObjectHandle(clientID,'manillar',sim.simx_opmode_blocking)\n",
    "retCode,rueda_trasera=sim.simxGetObjectHandle(clientID,'rueda_trasera',sim.simx_opmode_blocking)\n",
    "retCode,inercia=sim.simxGetObjectHandle(clientID,'MotorDC',sim.simx_opmode_blocking)\n",
    "print(sensorHandle, manillar, rueda_trasera, inercia)"
   ]
  },
  {
   "cell_type": "code",
   "execution_count": 13,
   "id": "54d718ba",
   "metadata": {},
   "outputs": [],
   "source": [
    "## Marcar movimiento inicial\n",
    "movimiento(1, rueda_trasera) # avanzar\n",
    "## BUCLE PRINCIPAL para detectar señal\n",
    "flag = False\n",
    "while not flag:\n",
    "    mov_inercia(rand.randint(-20,20), inercia) # avanzar\n",
    "    image = getImage(sensorHandle)\n",
    "    detections = getDetections(image)\n",
    "    if not detections.empty:\n",
    "        detection = detections.iloc[0]\n",
    "        if detection.iloc[0] == 'stop sign':\n",
    "            if round(detection.iloc[1], 2) <= 0.10 and round(detection.iloc[2], 2) <= 0.034:\n",
    "                flag = True\n",
    "                movimiento(0, rueda_trasera) # frenar\n",
    "                time.sleep(3)\n",
    "## Giro\n",
    "movimiento(1, rueda_trasera)\n",
    "mov_inercia(20, inercia)\n",
    "time.sleep(6)\n",
    "girar(manillar)\n",
    "mov_inercia(-20, inercia)\n",
    "time.sleep(13)\n",
    "girar(manillar, 0)\n",
    "## fin\n",
    "\n",
    "while True:\n",
    "    mov_inercia(rand.randint(-20,20), inercia) # avanzar\n",
    "    time.sleep(0.5)"
   ]
  }
 ],
 "metadata": {
  "kernelspec": {
   "display_name": "Python 3 (ipykernel)",
   "language": "python",
   "name": "python3"
  }
 },
 "nbformat": 4,
 "nbformat_minor": 5
}
