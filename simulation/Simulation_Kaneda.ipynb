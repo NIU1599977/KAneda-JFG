{
 "cells": [
  {
   "cell_type": "markdown",
   "id": "6547c7e3-063f-4d6c-a394-fdedf91023b7",
   "metadata": {},
   "source": [
    "# SIMULACIÓN KANEDA "
   ]
  },
  {
   "cell_type": "code",
   "execution_count": 50,
   "id": "10813666-24c9-4a0a-bce7-d0f2f40ef70d",
   "metadata": {},
   "outputs": [],
   "source": [
    "# we import the necessary libraries\n",
    "import sim          \n",
    "import sympy as sp  \n",
    "import time\n",
    "import math"
   ]
  },
  {
   "cell_type": "markdown",
   "id": "ef916fa6-f7b8-40a3-873b-7d34c50f6c70",
   "metadata": {},
   "source": [
    "### CONEXIÓN CON COPPELIA"
   ]
  },
  {
   "cell_type": "code",
   "execution_count": 51,
   "id": "fbd1393b-64be-483c-95df-a9da5fb5bd8e",
   "metadata": {},
   "outputs": [],
   "source": [
    "def connect(port):\n",
    "    sim.simxFinish(-1) # just in case, close all opened connections\n",
    "    clientID=sim.simxStart('127.0.0.1',port,True,True,2000,5) # Conectarse\n",
    "    if clientID == 0: print(\"conectado a\", port)\n",
    "    else: print(\"no se pudo conectar\")\n",
    "    return clientID"
   ]
  },
  {
   "cell_type": "code",
   "execution_count": 52,
   "id": "7cfe1bf8-b968-4fde-a012-1656e20e241e",
   "metadata": {},
   "outputs": [
    {
     "name": "stdout",
     "output_type": "stream",
     "text": [
      "conectado a 19999\n"
     ]
    }
   ],
   "source": [
    "clientID = connect(19999)"
   ]
  },
  {
   "cell_type": "code",
   "execution_count": 53,
   "id": "d743c7a8-06bc-4f4b-9c88-61755c66e5bd",
   "metadata": {},
   "outputs": [
    {
     "name": "stdout",
     "output_type": "stream",
     "text": [
      "Posición Rueda Trasera: 22\n"
     ]
    },
    {
     "data": {
      "text/plain": [
       "8"
      ]
     },
     "execution_count": 53,
     "metadata": {},
     "output_type": "execute_result"
    }
   ],
   "source": [
    "retCode,joint1=sim.simxGetObjectHandle(clientID,'RuedaTrasera',sim.simx_opmode_blocking)\n",
    "print(\"Posición Rueda Trasera: \"+ str (joint1))\n",
    "target_velocity = math.radians(1000)\n",
    "retcode=sim.simxSetJointTargetVelocity(clientID,joint1,target_velocity,sim.simx_opmode_blocking)\n",
    "print(retcode)"
   ]
  },
  {
   "cell_type": "code",
   "execution_count": null,
   "id": "766ef928-0009-4b23-be50-55cee1f664b8",
   "metadata": {},
   "outputs": [],
   "source": []
  },
  {
   "cell_type": "code",
   "execution_count": null,
   "id": "13d82241-807f-4ff5-9bf0-f5ff24e61347",
   "metadata": {},
   "outputs": [],
   "source": []
  }
 ],
 "metadata": {
  "kernelspec": {
   "display_name": "Python 3 (ipykernel)",
   "language": "python",
   "name": "python3"
  },
  "language_info": {
   "codemirror_mode": {
    "name": "ipython",
    "version": 3
   },
   "file_extension": ".py",
   "mimetype": "text/x-python",
   "name": "python",
   "nbconvert_exporter": "python",
   "pygments_lexer": "ipython3",
   "version": "3.11.7"
  }
 },
 "nbformat": 4,
 "nbformat_minor": 5
}
